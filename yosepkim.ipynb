{
 "cells": [
  {
   "cell_type": "markdown",
   "metadata": {},
   "source": [
    "Yosep Kim"
   ]
  },
  {
   "cell_type": "code",
   "execution_count": 40,
   "metadata": {
    "collapsed": true
   },
   "outputs": [],
   "source": [
    "%matplotlib inline\n",
    "import matplotlib.image as mpimg\n",
    "import matplotlib.pyplot as plt\n",
    "import os\n",
    "\n",
    "import numpy as np\n",
    "import pandas as pd\n",
    "\n",
    "from sklearn.model_selection import train_test_split\n",
    "from sklearn import preprocessing\n",
    "from sklearn.decomposition import PCA\n",
    "from sklearn.svm import SVC\n",
    "from sklearn.metrics import accuracy_score\n",
    "from sklearn import metrics\n",
    "from sklearn.model_selection import GridSearchCV\n",
    "\n",
    "directory = 'Face/'\n",
    "label = 'Face/label.csv'"
   ]
  },
  {
   "cell_type": "markdown",
   "metadata": {},
   "source": [
    "a"
   ]
  },
  {
   "cell_type": "code",
   "execution_count": 41,
   "metadata": {
    "collapsed": true
   },
   "outputs": [],
   "source": [
    "zero_jpeg =mpimg.imread(directory+'0.jpg')\n",
    "# plt.imshow(zero_jpeg, cmap=plt.cm.gray)"
   ]
  },
  {
   "cell_type": "markdown",
   "metadata": {},
   "source": [
    "b, c"
   ]
  },
  {
   "cell_type": "code",
   "execution_count": 42,
   "metadata": {},
   "outputs": [
    {
     "data": {
      "text/plain": [
       "array([[ 1.37649641,  1.11885303,  0.79610373, ..., -1.17094622,\n",
       "        -1.24726506, -1.21711982],\n",
       "       [ 1.68113398,  1.3654141 ,  1.03570156, ...,  0.68710075,\n",
       "         1.48558299,  1.58234648],\n",
       "       [-0.31593455, -0.59063704, -0.75329558, ...,  1.84210291,\n",
       "         1.84204144,  1.13304942],\n",
       "       ..., \n",
       "       [ 0.98723729,  1.02022861,  1.01972837, ..., -0.58507555,\n",
       "        -0.48342554, -0.38764832],\n",
       "       [ 0.68259971,  0.52710647,  0.34885444, ...,  0.88797069,\n",
       "         0.63687242,  0.71831368],\n",
       "       [-0.231313  , -0.67282406, -1.0088666 , ..., -0.06616154,\n",
       "        -0.55132239, -0.50861291]])"
      ]
     },
     "execution_count": 42,
     "metadata": {},
     "output_type": "execute_result"
    }
   ],
   "source": [
    "feature_maxtrix = np.empty([0,4096])\n",
    "file_count = 0\n",
    "for file in os.listdir(directory):\n",
    "    if file.endswith(\".jpg\"):\n",
    "        file_count= file_count+1\n",
    "        \n",
    "for i in range(file_count):\n",
    "#         image_num = file.split(\".\")[0]\n",
    "        jpg = mpimg.imread(directory+str(i)+'.jpg')\n",
    "        jpg=jpg.flatten().reshape(1,4096)\n",
    "        feature_maxtrix = np.concatenate([feature_maxtrix, jpg])\n",
    "        \n",
    "feature_maxtrix_preprocessing = feature_maxtrix\n",
    "feature_maxtrix_preprocessing = preprocessing.scale(feature_maxtrix_preprocessing, copy=False)"
   ]
  },
  {
   "cell_type": "markdown",
   "metadata": {},
   "source": [
    "d"
   ]
  },
  {
   "cell_type": "code",
   "execution_count": 43,
   "metadata": {
    "collapsed": true
   },
   "outputs": [],
   "source": [
    "y = pd.read_csv('Face/label.csv')\n",
    "# y = pd.read_csv('Face/label.csv', squeeze=True)\n",
    "X_train, X_test, y_train, y_test = train_test_split(feature_maxtrix_preprocessing, y, test_size=0.25, random_state=5)"
   ]
  },
  {
   "cell_type": "markdown",
   "metadata": {},
   "source": [
    "e"
   ]
  },
  {
   "cell_type": "code",
   "execution_count": 44,
   "metadata": {
    "collapsed": true
   },
   "outputs": [],
   "source": [
    "from sklearn.decomposition import PCA\n",
    "k = 50 # (k is the number of compone\n",
    "my_pca = PCA(n_components = k)\n",
    "X_Train_new = my_pca. fit_transform(X_train)\n",
    "X_Test_new = my_pca. transform(X_test)\n"
   ]
  },
  {
   "cell_type": "markdown",
   "metadata": {},
   "source": [
    "f"
   ]
  },
  {
   "cell_type": "code",
   "execution_count": 45,
   "metadata": {},
   "outputs": [
    {
     "name": "stderr",
     "output_type": "stream",
     "text": []
    },
    {
     "name": "stdout",
     "output_type": "stream",
     "text": [
      "Accuracy with PCA: 0.91\n"
     ]
    }
   ],
   "source": [
    "clf = SVC(C=1, kernel='rbf', gamma=0.0005, random_state=1)\n",
    "clf.fit(X_train, y_train)\n",
    "y_predict_svm = clf.predict(X_test)\n",
    "\n",
    "clf_X_train_pca = SVC(C=1, kernel='rbf', gamma=0.0005, random_state=1)\n",
    "clf_X_train_pca.fit(X_Train_new, y_train)\n",
    "y_predict_svm_X_test_pca = clf_X_train_pca.predict(X_Test_new)\n",
    "\n",
    "score_svm_test_pca = accuracy_score(y_test, y_predict_svm_X_test_pca)\n",
    "print(\"Accuracy with PCA: \" + str(score_svm_test_pca))"
   ]
  },
  {
   "cell_type": "markdown",
   "metadata": {},
   "source": [
    "g"
   ]
  },
  {
   "cell_type": "code",
   "execution_count": 49,
   "metadata": {},
   "outputs": [
    {
     "name": "stderr",
     "output_type": "stream",
     "text": []
    },
    {
     "name": "stderr",
     "output_type": "stream",
     "text": []
    },
    {
     "name": "stderr",
     "output_type": "stream",
     "text": []
    },
    {
     "data": {
      "text/plain": [
       "GridSearchCV(cv=10, error_score='raise',\n",
       "       estimator=SVC(C=1, cache_size=200, class_weight=None, coef0=0.0,\n",
       "  decision_function_shape='ovr', degree=3, gamma=0.0005, kernel='rbf',\n",
       "  max_iter=-1, probability=False, random_state=1, shrinking=True,\n",
       "  tol=0.001, verbose=False),\n",
       "       fit_params=None, iid=True, n_jobs=1,\n",
       "       param_grid={'C': [0.1, 1, 10, 100, 1000.0, 5000.0, 10000.0, 50000.0, 100000.0]},\n",
       "       pre_dispatch='2*n_jobs', refit=True, return_train_score='warn',\n",
       "       scoring='accuracy', verbose=0)"
      ]
     },
     "execution_count": 49,
     "metadata": {},
     "output_type": "execute_result"
    }
   ],
   "source": [
    "cm_SVM = metrics.confusion_matrix(y_test, y_predict_svm)\n",
    "X_pca = np.concatenate([X_Train_new, X_Test_new])\n",
    "\n",
    "y_pca = np.concatenate([y_train, y_test])\n",
    "\n",
    "parameter_c = [0.1,1,10,100,1e3,5e3,1e4,5e4,1e5]\n",
    "\n",
    "parameter_grid = dict(C = parameter_c)\n",
    "\n",
    "svc = SVC(C=1, kernel='rbf', gamma=0.0005, random_state=1)\n",
    "\n",
    "grid = GridSearchCV(svc, parameter_grid, cv=10, scoring='accuracy')\n",
    "grid.fit(X_pca, y_pca)\n",
    "\n"
   ]
  },
  {
   "cell_type": "code",
   "execution_count": 50,
   "metadata": {},
   "outputs": [
    {
     "name": "stdout",
     "output_type": "stream",
     "text": [
      "\n",
      "Grid Accuracy: 0.9625\n",
      "C Parameter: {'C': 10}\n"
     ]
    }
   ],
   "source": [
    "print()\n",
    "print('Grid Accuracy:', grid.best_score_)\n",
    "print('C Parameter:', grid.best_params_)"
   ]
  },
  {
   "cell_type": "code",
   "execution_count": null,
   "metadata": {},
   "outputs": [],
   "source": []
  },
  {
   "cell_type": "code",
   "execution_count": null,
   "metadata": {
    "collapsed": true
   },
   "outputs": [],
   "source": []
  },
  {
   "cell_type": "code",
   "execution_count": null,
   "metadata": {
    "collapsed": true
   },
   "outputs": [],
   "source": []
  },
  {
   "cell_type": "code",
   "execution_count": null,
   "metadata": {
    "collapsed": true
   },
   "outputs": [],
   "source": []
  },
  {
   "cell_type": "code",
   "execution_count": null,
   "metadata": {
    "collapsed": true
   },
   "outputs": [],
   "source": []
  },
  {
   "cell_type": "code",
   "execution_count": null,
   "metadata": {
    "collapsed": true
   },
   "outputs": [],
   "source": []
  },
  {
   "cell_type": "code",
   "execution_count": null,
   "metadata": {
    "collapsed": true
   },
   "outputs": [],
   "source": []
  }
 ],
 "metadata": {
  "kernelspec": {
   "display_name": "Python 3",
   "language": "python",
   "name": "python3"
  },
  "language_info": {
   "codemirror_mode": {
    "name": "ipython",
    "version": 3
   },
   "file_extension": ".py",
   "mimetype": "text/x-python",
   "name": "python",
   "nbconvert_exporter": "python",
   "pygments_lexer": "ipython3",
   "version": "3.6.2"
  }
 },
 "nbformat": 4,
 "nbformat_minor": 2
}
